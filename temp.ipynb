{
 "cells": [
  {
   "cell_type": "markdown",
   "metadata": {},
   "source": [
    "Importando as biblioteca necessárias:"
   ]
  },
  {
   "cell_type": "code",
   "execution_count": null,
   "metadata": {},
   "outputs": [],
   "source": [
    "import pandas as pd\n",
    "import seaborn as sns\n",
    "%matplotlib inline"
   ]
  },
  {
   "cell_type": "markdown",
   "metadata": {},
   "source": [
    "Checando como os dados estão orgazizados:"
   ]
  },
  {
   "cell_type": "code",
   "execution_count": null,
   "metadata": {},
   "outputs": [],
   "source": [
    "dados = pd.read_csv('./fipe_2022.csv')\n",
    "dados.head()"
   ]
  },
  {
   "cell_type": "markdown",
   "metadata": {},
   "source": [
    "Renomeando tabelas para facilitar visualização:"
   ]
  },
  {
   "cell_type": "code",
   "execution_count": null,
   "metadata": {},
   "outputs": [],
   "source": [
    "dados.rename(columns={'year_of_reference' : 'Ano_de_referência' , 'month_of_reference' : 'Mês_de_referencia' , 'fipe code' : \"Código_fipe\", 'authentication':'Autenticação', 'brand':'Marca','model':'Modelo', 'fuel':'Combustível', 'gear':'Câmbio', 'engine_size':'Tipo_de_motor', 'year_model':'Ano_do_Modelo', 'avg_price_brl':'Preço', 'age_years':'Tempo_em_anos'},inplace=True)\n",
    "dados.head()"
   ]
  },
  {
   "cell_type": "markdown",
   "metadata": {},
   "source": [
    "Agrupando por marca e visualizando o valor médio de vendas:"
   ]
  },
  {
   "cell_type": "code",
   "execution_count": null,
   "metadata": {},
   "outputs": [],
   "source": [
    "#Agrupando por marca:\n",
    "por_marca = dados.loc[0:,['Marca','Preço']].groupby('Marca')\n",
    "#Fazendo o somatório:\n",
    "VendasPorMarca = por_marca.sum().sort_values('Preço')\n",
    "VendasPorMarca.mean()"
   ]
  },
  {
   "cell_type": "markdown",
   "metadata": {},
   "source": [
    "Filtrando marcas com vendas acima da média:"
   ]
  },
  {
   "cell_type": "code",
   "execution_count": null,
   "metadata": {},
   "outputs": [],
   "source": [
    "VendasAcimaDaMedia = VendasPorMarca[VendasPorMarca['Preço']>4.120798e+08]\n",
    "VendasAcimaDaMedia"
   ]
  },
  {
   "cell_type": "markdown",
   "metadata": {},
   "source": [
    "Plotando gráfico de vendas das marcas acima da média:"
   ]
  },
  {
   "cell_type": "code",
   "execution_count": null,
   "metadata": {},
   "outputs": [],
   "source": [
    "sns.barplot(x='Marca',y='Preço',data=VendasAcimaDaMedia)"
   ]
  },
  {
   "cell_type": "markdown",
   "metadata": {},
   "source": [
    "Contando a quantidade média de vendas por modelo (Porsche):"
   ]
  },
  {
   "cell_type": "code",
   "execution_count": null,
   "metadata": {},
   "outputs": [],
   "source": [
    "#Selecionando as linhas em quê a marca seja Porsche:\n",
    "Porsche = dados[dados['Marca']=='Porsche']\n",
    "#Agrupando por modelo e renomeando uma coluna para contabilizar as vendas:\n",
    "PorschePorModelo = Porsche.loc[0:,['Modelo','Combustível']].rename(columns={'Combustível':'vendas'}).groupby('Modelo')\n",
    "#Contando e ordenando por vendas:\n",
    "Vendas = PorschePorModelo.count().sort_values('vendas')\n",
    "#Obtendo a média de vendas:\n",
    "Vendas.mean()"
   ]
  },
  {
   "cell_type": "markdown",
   "metadata": {},
   "source": [
    "Filtrando os carros da Porsche com vendas acima da média:"
   ]
  },
  {
   "cell_type": "code",
   "execution_count": null,
   "metadata": {},
   "outputs": [],
   "source": [
    "AcimaDaMedia = Vendas[Vendas['vendas']>46.575342]\n",
    "AcimaDaMedia"
   ]
  },
  {
   "cell_type": "markdown",
   "metadata": {},
   "source": [
    "Gráfico com as vendas de modelos acima da média:"
   ]
  },
  {
   "cell_type": "code",
   "execution_count": null,
   "metadata": {},
   "outputs": [],
   "source": []
  },
  {
   "cell_type": "markdown",
   "metadata": {},
   "source": [
    "Relacioanando a quantidade de vendas com o combustível utilizado pelo carro:"
   ]
  },
  {
   "cell_type": "code",
   "execution_count": null,
   "metadata": {},
   "outputs": [],
   "source": [
    "porcombustivel = dados.loc[0:,['Modelo','Combustível','Preço']].rename(columns={'Modelo':'Modelos vendidos'}).groupby('Combustível')\n",
    "VendasPorCombustivel = porcombustivel.agg({'Modelos vendidos':'count', 'Preço':'sum'})\n",
    "VendasPorCombustivel"
   ]
  },
  {
   "cell_type": "markdown",
   "metadata": {},
   "source": [
    "Exibindo a relação acima graficamente:"
   ]
  },
  {
   "cell_type": "code",
   "execution_count": null,
   "metadata": {},
   "outputs": [],
   "source": [
    "sns.barplot(x='Combustível',y='Preço',data=dados)"
   ]
  },
  {
   "cell_type": "markdown",
   "metadata": {},
   "source": [
    "# Lista de gráficos que deveremos fazer:"
   ]
  },
  {
   "cell_type": "markdown",
   "metadata": {},
   "source": [
    "<p>1° - Gráficos mostrando o lucro anual das marcas citadas (Em real).</p>\n",
    "<p>2° - Gráfico de vendas dos carros da marca com maior lucro (Em quantidade e em real).</p>\n",
    "<p>3° - Gráfico exibindo a quantidade de vendas por mês. (Média de todas as marcas)</p>\n",
    "<p>4° - Gráfico exibindo o valor de vendas por mês (Média de todas as marcas, em real.).</p>"
   ]
  },
  {
   "cell_type": "markdown",
   "metadata": {},
   "source": [
    "# Descrição do CSV:"
   ]
  },
  {
   "cell_type": "markdown",
   "metadata": {},
   "source": [
    "Esse é um *dataset* que contem dados relacionados a vendas de carros no Brasil no ano de 2022. Contendo como dados: O ano de referência (2022), o mês de referência, o código fipe, o código de autencidade, a marca do carro, o modelo, o combustível utilizado, o tipo de câmbio, o tipo de motor, o ano do carro, o preço e a idade."
   ]
  },
  {
   "cell_type": "markdown",
   "metadata": {},
   "source": [
    "Este *dataset* foi obtido através do site <a href='https://www.kaggle.com/datasets'>Kaggle</a> que disponibiliza *datasets* gratuitos para download."
   ]
  }
 ],
 "metadata": {
  "kernelspec": {
   "display_name": "Python 3",
   "language": "python",
   "name": "python3"
  },
  "language_info": {
   "codemirror_mode": {
    "name": "ipython",
    "version": 3
   },
   "file_extension": ".py",
   "mimetype": "text/x-python",
   "name": "python",
   "nbconvert_exporter": "python",
   "pygments_lexer": "ipython3",
   "version": "3.11.5"
  }
 },
 "nbformat": 4,
 "nbformat_minor": 2
}
