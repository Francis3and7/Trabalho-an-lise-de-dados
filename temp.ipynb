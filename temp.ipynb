{
 "cells": [
  {
   "cell_type": "markdown",
   "metadata": {},
   "source": [
    "Importando  biblioteca Pandas:"
   ]
  },
  {
   "cell_type": "code",
   "execution_count": 1,
   "metadata": {},
   "outputs": [],
   "source": [
    "import pandas as pd\n",
    "import seaborn as sns\n",
    "%matplotlib inline"
   ]
  },
  {
   "cell_type": "markdown",
   "metadata": {},
   "source": [
    "Checando como os dados estão orgazizados:"
   ]
  },
  {
   "cell_type": "code",
   "execution_count": 2,
   "metadata": {},
   "outputs": [
    {
     "data": {
      "text/html": [
       "<div>\n",
       "<style scoped>\n",
       "    .dataframe tbody tr th:only-of-type {\n",
       "        vertical-align: middle;\n",
       "    }\n",
       "\n",
       "    .dataframe tbody tr th {\n",
       "        vertical-align: top;\n",
       "    }\n",
       "\n",
       "    .dataframe thead th {\n",
       "        text-align: right;\n",
       "    }\n",
       "</style>\n",
       "<table border=\"1\" class=\"dataframe\">\n",
       "  <thead>\n",
       "    <tr style=\"text-align: right;\">\n",
       "      <th></th>\n",
       "      <th>year_of_reference</th>\n",
       "      <th>month_of_reference</th>\n",
       "      <th>fipe_code</th>\n",
       "      <th>authentication</th>\n",
       "      <th>brand</th>\n",
       "      <th>model</th>\n",
       "      <th>fuel</th>\n",
       "      <th>gear</th>\n",
       "      <th>engine_size</th>\n",
       "      <th>year_model</th>\n",
       "      <th>avg_price_brl</th>\n",
       "      <th>age_years</th>\n",
       "    </tr>\n",
       "  </thead>\n",
       "  <tbody>\n",
       "    <tr>\n",
       "      <th>0</th>\n",
       "      <td>2022</td>\n",
       "      <td>January</td>\n",
       "      <td>038001-6</td>\n",
       "      <td>vwmrywl5qs</td>\n",
       "      <td>Acura</td>\n",
       "      <td>NSX 3.0</td>\n",
       "      <td>Gasoline</td>\n",
       "      <td>manual</td>\n",
       "      <td>3.0</td>\n",
       "      <td>1995</td>\n",
       "      <td>43779.0</td>\n",
       "      <td>28</td>\n",
       "    </tr>\n",
       "    <tr>\n",
       "      <th>1</th>\n",
       "      <td>2022</td>\n",
       "      <td>January</td>\n",
       "      <td>038001-6</td>\n",
       "      <td>t9mt723qhz</td>\n",
       "      <td>Acura</td>\n",
       "      <td>NSX 3.0</td>\n",
       "      <td>Gasoline</td>\n",
       "      <td>manual</td>\n",
       "      <td>3.0</td>\n",
       "      <td>1994</td>\n",
       "      <td>42244.0</td>\n",
       "      <td>29</td>\n",
       "    </tr>\n",
       "    <tr>\n",
       "      <th>2</th>\n",
       "      <td>2022</td>\n",
       "      <td>January</td>\n",
       "      <td>038001-6</td>\n",
       "      <td>tr5wv4z21g</td>\n",
       "      <td>Acura</td>\n",
       "      <td>NSX 3.0</td>\n",
       "      <td>Gasoline</td>\n",
       "      <td>manual</td>\n",
       "      <td>3.0</td>\n",
       "      <td>1993</td>\n",
       "      <td>40841.0</td>\n",
       "      <td>30</td>\n",
       "    </tr>\n",
       "    <tr>\n",
       "      <th>3</th>\n",
       "      <td>2022</td>\n",
       "      <td>January</td>\n",
       "      <td>038001-6</td>\n",
       "      <td>s2xxsjz3mt</td>\n",
       "      <td>Acura</td>\n",
       "      <td>NSX 3.0</td>\n",
       "      <td>Gasoline</td>\n",
       "      <td>manual</td>\n",
       "      <td>3.0</td>\n",
       "      <td>1992</td>\n",
       "      <td>39028.0</td>\n",
       "      <td>31</td>\n",
       "    </tr>\n",
       "    <tr>\n",
       "      <th>4</th>\n",
       "      <td>2022</td>\n",
       "      <td>January</td>\n",
       "      <td>038001-6</td>\n",
       "      <td>rtm9gj7zk8</td>\n",
       "      <td>Acura</td>\n",
       "      <td>NSX 3.0</td>\n",
       "      <td>Gasoline</td>\n",
       "      <td>manual</td>\n",
       "      <td>3.0</td>\n",
       "      <td>1991</td>\n",
       "      <td>35678.0</td>\n",
       "      <td>32</td>\n",
       "    </tr>\n",
       "  </tbody>\n",
       "</table>\n",
       "</div>"
      ],
      "text/plain": [
       "   year_of_reference month_of_reference fipe_code authentication  brand  \\\n",
       "0               2022            January  038001-6     vwmrywl5qs  Acura   \n",
       "1               2022            January  038001-6     t9mt723qhz  Acura   \n",
       "2               2022            January  038001-6     tr5wv4z21g  Acura   \n",
       "3               2022            January  038001-6     s2xxsjz3mt  Acura   \n",
       "4               2022            January  038001-6     rtm9gj7zk8  Acura   \n",
       "\n",
       "     model      fuel    gear  engine_size  year_model  avg_price_brl  \\\n",
       "0  NSX 3.0  Gasoline  manual          3.0        1995        43779.0   \n",
       "1  NSX 3.0  Gasoline  manual          3.0        1994        42244.0   \n",
       "2  NSX 3.0  Gasoline  manual          3.0        1993        40841.0   \n",
       "3  NSX 3.0  Gasoline  manual          3.0        1992        39028.0   \n",
       "4  NSX 3.0  Gasoline  manual          3.0        1991        35678.0   \n",
       "\n",
       "   age_years  \n",
       "0         28  \n",
       "1         29  \n",
       "2         30  \n",
       "3         31  \n",
       "4         32  "
      ]
     },
     "execution_count": 2,
     "metadata": {},
     "output_type": "execute_result"
    }
   ],
   "source": [
    "dados = pd.read_csv('./fipe_2022.csv')\n",
    "dados.head()"
   ]
  },
  {
   "cell_type": "markdown",
   "metadata": {},
   "source": [
    "Visualizando o somatório das vendas por marca:"
   ]
  },
  {
   "cell_type": "code",
   "execution_count": 16,
   "metadata": {},
   "outputs": [
    {
     "data": {
      "text/plain": [
       "avg_price_brl    4.120798e+08\n",
       "dtype: float64"
      ]
     },
     "execution_count": 16,
     "metadata": {},
     "output_type": "execute_result"
    }
   ],
   "source": [
    "#Agrupando por marca:\n",
    "por_marca = dados.loc[0:,['brand','avg_price_brl']].groupby('brand')\n",
    "#Fazendo o somatório:\n",
    "VendasPorMarca = por_marca.sum().sort_values('avg_price_brl')\n",
    "VendasPorMarca.mean()"
   ]
  },
  {
   "cell_type": "code",
   "execution_count": 18,
   "metadata": {},
   "outputs": [
    {
     "data": {
      "text/html": [
       "<div>\n",
       "<style scoped>\n",
       "    .dataframe tbody tr th:only-of-type {\n",
       "        vertical-align: middle;\n",
       "    }\n",
       "\n",
       "    .dataframe tbody tr th {\n",
       "        vertical-align: top;\n",
       "    }\n",
       "\n",
       "    .dataframe thead th {\n",
       "        text-align: right;\n",
       "    }\n",
       "</style>\n",
       "<table border=\"1\" class=\"dataframe\">\n",
       "  <thead>\n",
       "    <tr style=\"text-align: right;\">\n",
       "      <th></th>\n",
       "      <th>avg_price_brl</th>\n",
       "    </tr>\n",
       "    <tr>\n",
       "      <th>brand</th>\n",
       "      <th></th>\n",
       "    </tr>\n",
       "  </thead>\n",
       "  <tbody>\n",
       "    <tr>\n",
       "      <th>Nissan</th>\n",
       "      <td>4.597770e+08</td>\n",
       "    </tr>\n",
       "    <tr>\n",
       "      <th>Peugeot</th>\n",
       "      <td>4.621956e+08</td>\n",
       "    </tr>\n",
       "    <tr>\n",
       "      <th>Hyundai</th>\n",
       "      <td>4.907351e+08</td>\n",
       "    </tr>\n",
       "    <tr>\n",
       "      <th>Jeep</th>\n",
       "      <td>5.053497e+08</td>\n",
       "    </tr>\n",
       "    <tr>\n",
       "      <th>Maserati</th>\n",
       "      <td>6.940464e+08</td>\n",
       "    </tr>\n",
       "    <tr>\n",
       "      <th>Renault</th>\n",
       "      <td>7.232481e+08</td>\n",
       "    </tr>\n",
       "    <tr>\n",
       "      <th>Volvo</th>\n",
       "      <td>7.304544e+08</td>\n",
       "    </tr>\n",
       "    <tr>\n",
       "      <th>Jaguar</th>\n",
       "      <td>7.619095e+08</td>\n",
       "    </tr>\n",
       "    <tr>\n",
       "      <th>Mitsubishi</th>\n",
       "      <td>8.734747e+08</td>\n",
       "    </tr>\n",
       "    <tr>\n",
       "      <th>Toyota</th>\n",
       "      <td>9.493230e+08</td>\n",
       "    </tr>\n",
       "    <tr>\n",
       "      <th>Fiat</th>\n",
       "      <td>1.059255e+09</td>\n",
       "    </tr>\n",
       "    <tr>\n",
       "      <th>Mclaren</th>\n",
       "      <td>1.098704e+09</td>\n",
       "    </tr>\n",
       "    <tr>\n",
       "      <th>VW - VolksWagen</th>\n",
       "      <td>1.189768e+09</td>\n",
       "    </tr>\n",
       "    <tr>\n",
       "      <th>Ford</th>\n",
       "      <td>1.194560e+09</td>\n",
       "    </tr>\n",
       "    <tr>\n",
       "      <th>Rolls-Royce</th>\n",
       "      <td>1.400355e+09</td>\n",
       "    </tr>\n",
       "    <tr>\n",
       "      <th>GM - Chevrolet</th>\n",
       "      <td>1.490497e+09</td>\n",
       "    </tr>\n",
       "    <tr>\n",
       "      <th>Land Rover</th>\n",
       "      <td>1.941860e+09</td>\n",
       "    </tr>\n",
       "    <tr>\n",
       "      <th>Audi</th>\n",
       "      <td>2.082641e+09</td>\n",
       "    </tr>\n",
       "    <tr>\n",
       "      <th>BMW</th>\n",
       "      <td>2.347711e+09</td>\n",
       "    </tr>\n",
       "    <tr>\n",
       "      <th>Ferrari</th>\n",
       "      <td>2.594020e+09</td>\n",
       "    </tr>\n",
       "    <tr>\n",
       "      <th>Mercedes-Benz</th>\n",
       "      <td>4.296081e+09</td>\n",
       "    </tr>\n",
       "    <tr>\n",
       "      <th>Porsche</th>\n",
       "      <td>4.297573e+09</td>\n",
       "    </tr>\n",
       "  </tbody>\n",
       "</table>\n",
       "</div>"
      ],
      "text/plain": [
       "                 avg_price_brl\n",
       "brand                         \n",
       "Nissan            4.597770e+08\n",
       "Peugeot           4.621956e+08\n",
       "Hyundai           4.907351e+08\n",
       "Jeep              5.053497e+08\n",
       "Maserati          6.940464e+08\n",
       "Renault           7.232481e+08\n",
       "Volvo             7.304544e+08\n",
       "Jaguar            7.619095e+08\n",
       "Mitsubishi        8.734747e+08\n",
       "Toyota            9.493230e+08\n",
       "Fiat              1.059255e+09\n",
       "Mclaren           1.098704e+09\n",
       "VW - VolksWagen   1.189768e+09\n",
       "Ford              1.194560e+09\n",
       "Rolls-Royce       1.400355e+09\n",
       "GM - Chevrolet    1.490497e+09\n",
       "Land Rover        1.941860e+09\n",
       "Audi              2.082641e+09\n",
       "BMW               2.347711e+09\n",
       "Ferrari           2.594020e+09\n",
       "Mercedes-Benz     4.296081e+09\n",
       "Porsche           4.297573e+09"
      ]
     },
     "execution_count": 18,
     "metadata": {},
     "output_type": "execute_result"
    }
   ],
   "source": [
    "VendasAcimaDaMedia = VendasPorMarca[VendasPorMarca['avg_price_brl']>4.120798e+08]\n",
    "VendasAcimaDaMedia"
   ]
  },
  {
   "cell_type": "code",
   "execution_count": 20,
   "metadata": {},
   "outputs": [
    {
     "ename": "ValueError",
     "evalue": "Incorrect use of keyword argument 'rotation'. Keyword arguments other than 'minor' modify the text labels and can only be used if 'labels' are passed as well.",
     "output_type": "error",
     "traceback": [
      "\u001b[1;31m---------------------------------------------------------------------------\u001b[0m",
      "\u001b[1;31mValueError\u001b[0m                                Traceback (most recent call last)",
      "\u001b[1;32mc:\\Users\\franc\\Downloads\\archive\\temp.ipynb Célula 8\u001b[0m line \u001b[0;36m2\n\u001b[0;32m      <a href='vscode-notebook-cell:/c%3A/Users/franc/Downloads/archive/temp.ipynb#X23sZmlsZQ%3D%3D?line=0'>1</a>\u001b[0m plot1 \u001b[39m=\u001b[39m sns\u001b[39m.\u001b[39mbarplot(x\u001b[39m=\u001b[39m\u001b[39m'\u001b[39m\u001b[39mbrand\u001b[39m\u001b[39m'\u001b[39m,y\u001b[39m=\u001b[39m\u001b[39m'\u001b[39m\u001b[39mavg_price_brl\u001b[39m\u001b[39m'\u001b[39m,data\u001b[39m=\u001b[39mVendasAcimaDaMedia)\n\u001b[1;32m----> <a href='vscode-notebook-cell:/c%3A/Users/franc/Downloads/archive/temp.ipynb#X23sZmlsZQ%3D%3D?line=1'>2</a>\u001b[0m plot1\u001b[39m.\u001b[39;49mset_xticks(ticks\u001b[39m=\u001b[39;49m\u001b[39mNone\u001b[39;49;00m,rotation\u001b[39m=\u001b[39;49m\u001b[39m45\u001b[39;49m)\n",
      "File \u001b[1;32mc:\\Users\\franc\\AppData\\Local\\Programs\\Python\\Python311\\Lib\\site-packages\\matplotlib\\axes\\_base.py:73\u001b[0m, in \u001b[0;36m_axis_method_wrapper.__set_name__.<locals>.wrapper\u001b[1;34m(self, *args, **kwargs)\u001b[0m\n\u001b[0;32m     72\u001b[0m \u001b[39mdef\u001b[39;00m \u001b[39mwrapper\u001b[39m(\u001b[39mself\u001b[39m, \u001b[39m*\u001b[39margs, \u001b[39m*\u001b[39m\u001b[39m*\u001b[39mkwargs):\n\u001b[1;32m---> 73\u001b[0m     \u001b[39mreturn\u001b[39;00m get_method(\u001b[39mself\u001b[39;49m)(\u001b[39m*\u001b[39;49margs, \u001b[39m*\u001b[39;49m\u001b[39m*\u001b[39;49mkwargs)\n",
      "File \u001b[1;32mc:\\Users\\franc\\AppData\\Local\\Programs\\Python\\Python311\\Lib\\site-packages\\matplotlib\\axis.py:2134\u001b[0m, in \u001b[0;36mAxis.set_ticks\u001b[1;34m(self, ticks, labels, minor, **kwargs)\u001b[0m\n\u001b[0;32m   2132\u001b[0m \u001b[39mif\u001b[39;00m labels \u001b[39mis\u001b[39;00m \u001b[39mNone\u001b[39;00m \u001b[39mand\u001b[39;00m kwargs:\n\u001b[0;32m   2133\u001b[0m     first_key \u001b[39m=\u001b[39m \u001b[39mnext\u001b[39m(\u001b[39miter\u001b[39m(kwargs))\n\u001b[1;32m-> 2134\u001b[0m     \u001b[39mraise\u001b[39;00m \u001b[39mValueError\u001b[39;00m(\n\u001b[0;32m   2135\u001b[0m         \u001b[39mf\u001b[39m\u001b[39m\"\u001b[39m\u001b[39mIncorrect use of keyword argument \u001b[39m\u001b[39m{\u001b[39;00mfirst_key\u001b[39m!r}\u001b[39;00m\u001b[39m. Keyword arguments \u001b[39m\u001b[39m\"\u001b[39m\n\u001b[0;32m   2136\u001b[0m         \u001b[39m\"\u001b[39m\u001b[39mother than \u001b[39m\u001b[39m'\u001b[39m\u001b[39mminor\u001b[39m\u001b[39m'\u001b[39m\u001b[39m modify the text labels and can only be used if \u001b[39m\u001b[39m\"\u001b[39m\n\u001b[0;32m   2137\u001b[0m         \u001b[39m\"\u001b[39m\u001b[39m'\u001b[39m\u001b[39mlabels\u001b[39m\u001b[39m'\u001b[39m\u001b[39m are passed as well.\u001b[39m\u001b[39m\"\u001b[39m)\n\u001b[0;32m   2138\u001b[0m result \u001b[39m=\u001b[39m \u001b[39mself\u001b[39m\u001b[39m.\u001b[39m_set_tick_locations(ticks, minor\u001b[39m=\u001b[39mminor)\n\u001b[0;32m   2139\u001b[0m \u001b[39mif\u001b[39;00m labels \u001b[39mis\u001b[39;00m \u001b[39mnot\u001b[39;00m \u001b[39mNone\u001b[39;00m:\n",
      "\u001b[1;31mValueError\u001b[0m: Incorrect use of keyword argument 'rotation'. Keyword arguments other than 'minor' modify the text labels and can only be used if 'labels' are passed as well."
     ]
    },
    {
     "data": {
      "image/png": "[encoded data removed]",
      "text/plain": [
       "<Figure size 640x480 with 1 Axes>"
      ]
     },
     "metadata": {},
     "output_type": "display_data"
    }
   ],
   "source": [
    "plot1 = sns.barplot(x='brand',y='avg_price_brl',data=VendasAcimaDaMedia)\n",
    "plot1.set_xticks(ticks=None,rotation=45)"
   ]
  },
  {
   "cell_type": "markdown",
   "metadata": {},
   "source": [
    "Contando a quantidade de vendas por modelo (Porsche):"
   ]
  },
  {
   "cell_type": "code",
   "execution_count": null,
   "metadata": {},
   "outputs": [],
   "source": [
    "#Selecionando as linhas em quê a marca seja Porsche:\n",
    "Porsche = dados[dados['brand']=='Porsche']\n",
    "#Agrupando por modelo e renomeando uma coluna para contabilizar as vendas:\n",
    "PorschePorModelo = Porsche.loc[0:,['model','fuel']].rename(columns={'fuel':'vendas'}).groupby('model')\n",
    "#Contando e ordenando por vendas:\n",
    "Vendas = PorschePorModelo.count().sort_values('vendas')\n",
    "Vendas"
   ]
  },
  {
   "cell_type": "code",
   "execution_count": null,
   "metadata": {},
   "outputs": [],
   "source": [
    "sns.catplot(data=Vendas,x='vendas',y='model',kind='point')"
   ]
  },
  {
   "cell_type": "code",
   "execution_count": null,
   "metadata": {},
   "outputs": [],
   "source": [
    "sns.boxplot(x='model',y='vendas',data=Vendas[145:])"
   ]
  },
  {
   "cell_type": "markdown",
   "metadata": {},
   "source": [
    "# Lista de gráficos que deveremos fazer:"
   ]
  },
  {
   "cell_type": "markdown",
   "metadata": {},
   "source": [
    "<p>1° - Gráficos mostrando o lucro anual das marcas citadas (Em real).</p>\n",
    "<p>2° - Gráfico de vendas dos carros da marca com maior lucro (Em quantidade e em real).</p>\n",
    "<p>3° - Gráfico exibindo a quantidade de vendas por mês. (Média de todas as marcas)</p>\n",
    "<p>4° - Gráfico exibindo o valor de vendas por mês (Média de todas as marcas, em real.).</p>"
   ]
  },
  {
   "cell_type": "markdown",
   "metadata": {},
   "source": [
    "# Descrição do CSV:"
   ]
  },
  {
   "cell_type": "markdown",
   "metadata": {},
   "source": [
    "Esse é um *dataset* que contem dados relacionados a vendas de carros no Brasil no ano de 2022. Contendo como dados: O ano de referência (2022), o mês de referência, o código fipe, o código de autencidade, a marca do carro, o modelo, o combustível utilizado, o tipo de câmbio, o tipo de motor, o ano do carro, o preço e a idade."
   ]
  },
  {
   "cell_type": "markdown",
   "metadata": {},
   "source": [
    "Este *dataset* foi obtido através do site <a href='https://www.kaggle.com/datasets'>Kaggle</a> que disponibiliza *datasets* gratuitos para download."
   ]
  }
 ],
 "metadata": {
  "kernelspec": {
   "display_name": "Python 3",
   "language": "python",
   "name": "python3"
  },
  "language_info": {
   "codemirror_mode": {
    "name": "ipython",
    "version": 3
   },
   "file_extension": ".py",
   "mimetype": "text/x-python",
   "name": "python",
   "nbconvert_exporter": "python",
   "pygments_lexer": "ipython3",
   "version": "3.11.5"
  }
 },
 "nbformat": 4,
 "nbformat_minor": 2
}
