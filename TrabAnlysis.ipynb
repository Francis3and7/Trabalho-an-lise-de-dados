{
 "cells": [
  {
   "cell_type": "markdown",
   "metadata": {},
   "source": [
    "#### UNIVERSIDADE FEDERAL DO PIAUÍ\n",
    "#### CENTRO DE EDUCAÇÃO ABERTA E A DISTÂNCIA\n",
    "#### CURSO SUPERIOR DE TECNOLOGIA EM GESTÃO DE DADOS\n",
    "Alunos: Enzo de Sousa Oliveira, Franciel Moreira de França, João Pedro Lopes Pacheco\n",
    "***"
   ]
  },
  {
   "cell_type": "markdown",
   "metadata": {},
   "source": [
    "Importando as biblioteca necessárias:"
   ]
  },
  {
   "cell_type": "code",
   "execution_count": null,
   "metadata": {},
   "outputs": [],
   "source": [
    "import pandas as pd\n",
    "import seaborn as sns\n",
    "%matplotlib inline\n",
    "sns.set()"
   ]
  },
  {
   "cell_type": "markdown",
   "metadata": {},
   "source": [
    "Checando como os dados estão organizados:"
   ]
  },
  {
   "cell_type": "code",
   "execution_count": null,
   "metadata": {},
   "outputs": [],
   "source": [
    "dados = pd.read_csv('./fipe_2022.csv')\n",
    "dados.head()"
   ]
  },
  {
   "cell_type": "markdown",
   "metadata": {},
   "source": [
    "Renomeando tabelas para facilitar visualização:"
   ]
  },
  {
   "cell_type": "code",
   "execution_count": null,
   "metadata": {},
   "outputs": [],
   "source": [
    "dados.rename(columns={'year_of_reference' : 'Ano_de_referência' , 'month_of_reference' : 'Mês_de_referencia' , 'fipe code' : \"Código_fipe\", 'authentication':'Autenticação', 'brand':'Marca','model':'Modelo', 'fuel':'Combustível', 'gear':'Câmbio', 'engine_size':'Tipo_de_motor', 'year_model':'Ano_do_Modelo', 'avg_price_brl':'Preço', 'age_years':'Tempo_em_anos'},inplace=True)\n",
    "dados.head()"
   ]
  },
  {
   "cell_type": "markdown",
   "metadata": {},
   "source": [
    "Análisando a relação entre Combustível, Tipo de Motor e Arrecadação:"
   ]
  },
  {
   "cell_type": "code",
   "execution_count": null,
   "metadata": {},
   "outputs": [],
   "source": [
    "#Agrupando por marca:\n",
    "PorCombustivel = dados.loc[0:,['Preço','Combustível','Tipo_de_motor']].rename(columns={'Preço':'Arrecadação'}).groupby(['Combustível','Tipo_de_motor'])\n",
    "#Fazendo o somatório:\n",
    "Arrecadacao = PorCombustivel.agg({'Arrecadação':'sum'}).sort_values('Combustível')\n",
    "Arrecadacao.head()"
   ]
  },
  {
   "cell_type": "markdown",
   "metadata": {},
   "source": [
    "Plotando gráfico com a relação acima:"
   ]
  },
  {
   "cell_type": "code",
   "execution_count": null,
   "metadata": {},
   "outputs": [],
   "source": [
    "sns.lineplot(x='Tipo_de_motor',y='Arrecadação',hue='Combustível',data=Arrecadacao, palette='dark')"
   ]
  },
  {
   "cell_type": "markdown",
   "metadata": {},
   "source": [
    "Contando a quantidade média de vendas por marcas dos motores 2.0, 3.0 e 4.0:"
   ]
  },
  {
   "cell_type": "code",
   "execution_count": null,
   "metadata": {},
   "outputs": [],
   "source": [
    "PorMarca = dados.loc[0:,['Marca','Tipo_de_motor','Preço']].rename(columns={'Preço':'Quantidade de vendas'})\n",
    "lista = [2.0,3.0,4.1]\n",
    "PorMarca = PorMarca[PorMarca['Tipo_de_motor'].isin(lista)]\n",
    "QuantiaPorMarca = PorMarca.groupby(['Marca','Tipo_de_motor'])\n",
    "QuantiaPorMarca = QuantiaPorMarca.count().sort_values('Quantidade de vendas')\n",
    "QuantiaPorMarca.mean()"
   ]
  },
  {
   "cell_type": "markdown",
   "metadata": {},
   "source": [
    "Filtrando as marcas que possuem vendas desses motores acima da média:"
   ]
  },
  {
   "cell_type": "code",
   "execution_count": null,
   "metadata": {},
   "outputs": [],
   "source": [
    "QuantiaPorMarca = QuantiaPorMarca[QuantiaPorMarca['Quantidade de vendas']>1061.720588]\n",
    "QuantiaPorMarca.sort_values('Quantidade de vendas')"
   ]
  },
  {
   "cell_type": "markdown",
   "metadata": {},
   "source": [
    "Plotando o gráfico da análise acima:"
   ]
  },
  {
   "cell_type": "code",
   "execution_count": null,
   "metadata": {},
   "outputs": [],
   "source": [
    "grafico = sns.barplot(data=QuantiaPorMarca, x='Marca',y='Quantidade de vendas', hue='Tipo_de_motor',palette=['#F08A41','#BE3144','#22092C'])\n",
    "for label in grafico.get_xticklabels():\n",
    "   label.set_fontsize(12)\n",
    "   label.set_rotation(45)\n",
    "   label.set_horizontalalignment('right')"
   ]
  },
  {
   "cell_type": "markdown",
   "metadata": {},
   "source": [
    "Analisando a relação entre vendas e mês de referência:"
   ]
  },
  {
   "cell_type": "code",
   "execution_count": null,
   "metadata": {},
   "outputs": [],
   "source": [
    "PorMes = dados.loc[:,['Mês_de_referencia','Preço']]\n",
    "PorMes = PorMes.groupby('Mês_de_referencia', as_index=False)\n",
    "PorMes = PorMes.sum().sort_values('Preço')\n",
    "PorMes"
   ]
  },
  {
   "cell_type": "markdown",
   "metadata": {},
   "source": [
    "Plotando gráfico da relação acima:"
   ]
  },
  {
   "cell_type": "code",
   "execution_count": null,
   "metadata": {},
   "outputs": [],
   "source": [
    "g = sns.pointplot(data=PorMes, x='Mês_de_referencia', y='Preço')\n",
    "for label in g.get_xticklabels():\n",
    "   label.set_rotation(45)\n",
    "   label.set_fontsize(12)\n",
    "   label.set_horizontalalignment('right')"
   ]
  },
  {
   "cell_type": "markdown",
   "metadata": {},
   "source": [
    "Analisando a relação entre o preço e o tipo de motor:"
   ]
  },
  {
   "cell_type": "code",
   "execution_count": null,
   "metadata": {},
   "outputs": [],
   "source": [
    "motor_valor = dados.loc[0:,[\"Tipo_de_motor\", \"Preço\"]].groupby(\"Tipo_de_motor\", as_index=False)\n",
    "motor_valor_media = motor_valor.mean().sort_values(\"Tipo_de_motor\")\n",
    "sns.lmplot(data=motor_valor_media,x='Tipo_de_motor',y='Preço')"
   ]
  },
  {
   "cell_type": "markdown",
   "metadata": {},
   "source": [
    "Analisando a relação entre a quantidade de vendas e o ano do carro:"
   ]
  },
  {
   "cell_type": "code",
   "execution_count": null,
   "metadata": {},
   "outputs": [],
   "source": [
    "Ano_Modelo=dados.loc[:,['Ano_do_Modelo','Preço']]\n",
    "Ano_Modelo=Ano_Modelo.rename(columns={'Preço':'Quantidade_de_Vendas'}).groupby('Ano_do_Modelo', as_index=False)\n",
    "Ano_Modelo_count=Ano_Modelo.count()\n",
    "sns.lmplot(data=Ano_Modelo_count,x='Ano_do_Modelo',y='Quantidade_de_Vendas')"
   ]
  },
  {
   "cell_type": "markdown",
   "metadata": {},
   "source": [
    "Analisando a relação entre a arrecadação e o ano do carro:"
   ]
  },
  {
   "cell_type": "code",
   "execution_count": null,
   "metadata": {},
   "outputs": [],
   "source": [
    "Ano_Modelo_sum=Ano_Modelo.sum().rename(columns={'Quantidade_de_Vendas':'Arrecadação'})\n",
    "sns.lmplot(data=Ano_Modelo_sum,x='Ano_do_Modelo',y='Arrecadação')"
   ]
  }
 ],
 "metadata": {
  "kernelspec": {
   "display_name": "Python 3",
   "language": "python",
   "name": "python3"
  },
  "language_info": {
   "codemirror_mode": {
    "name": "ipython",
    "version": 3
   },
   "file_extension": ".py",
   "mimetype": "text/x-python",
   "name": "python",
   "nbconvert_exporter": "python",
   "pygments_lexer": "ipython3",
   "version": "3.11.5"
  }
 },
 "nbformat": 4,
 "nbformat_minor": 2
}
